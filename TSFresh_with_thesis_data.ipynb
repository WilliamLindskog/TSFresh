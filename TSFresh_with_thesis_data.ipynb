{
 "cells": [
  {
   "cell_type": "code",
   "execution_count": 47,
   "id": "personal-lyric",
   "metadata": {},
   "outputs": [],
   "source": [
    "from tsfresh import extract_features\n",
    "import matplotlib.pyplot as plt\n",
    "import pandas as pd\n",
    "import numpy as np\n",
    "from time import time"
   ]
  },
  {
   "cell_type": "code",
   "execution_count": 48,
   "id": "czech-darkness",
   "metadata": {},
   "outputs": [],
   "source": [
    "import pickle5 as pickle\n",
    "with open('thesis_data.pkl', \"rb\") as fh:\n",
    "  data = pickle.load(fh)"
   ]
  },
  {
   "cell_type": "code",
   "execution_count": 49,
   "id": "fifth-cologne",
   "metadata": {
    "scrolled": true
   },
   "outputs": [
    {
     "name": "stdout",
     "output_type": "stream",
     "text": [
      "<class 'pandas.core.frame.DataFrame'>\n",
      "DatetimeIndex: 4000 entries, 2020-09-21 00:07:10 to 2020-11-09 22:33:37\n",
      "Data columns (total 4 columns):\n",
      " #   Column           Non-Null Count  Dtype \n",
      "---  ------           --------------  ----- \n",
      " 0   actual_value     4000 non-null   object\n",
      " 1   desired_value    4000 non-null   object\n",
      " 2   actual_control   4000 non-null   object\n",
      " 3   desired_control  4000 non-null   object\n",
      "dtypes: object(4)\n",
      "memory usage: 156.2+ KB\n"
     ]
    },
    {
     "data": {
      "text/html": [
       "<div>\n",
       "<style scoped>\n",
       "    .dataframe tbody tr th:only-of-type {\n",
       "        vertical-align: middle;\n",
       "    }\n",
       "\n",
       "    .dataframe tbody tr th {\n",
       "        vertical-align: top;\n",
       "    }\n",
       "\n",
       "    .dataframe thead th {\n",
       "        text-align: right;\n",
       "    }\n",
       "</style>\n",
       "<table border=\"1\" class=\"dataframe\">\n",
       "  <thead>\n",
       "    <tr style=\"text-align: right;\">\n",
       "      <th></th>\n",
       "      <th>actual_value</th>\n",
       "      <th>desired_value</th>\n",
       "      <th>actual_control</th>\n",
       "      <th>desired_control</th>\n",
       "    </tr>\n",
       "    <tr>\n",
       "      <th>date_time</th>\n",
       "      <th></th>\n",
       "      <th></th>\n",
       "      <th></th>\n",
       "      <th></th>\n",
       "    </tr>\n",
       "  </thead>\n",
       "  <tbody>\n",
       "    <tr>\n",
       "      <th>2020-09-21 00:07:10</th>\n",
       "      <td>[66.0, 66.0, 66.0, 66.0, 66.0, 66.0, 66.0, 66....</td>\n",
       "      <td>[66.0, 85.0, 85.0, 85.0, 85.0, 85.0, 85.0, 85....</td>\n",
       "      <td>[0, 236, 1124, 2092, 3068, 3404, 3260, 3196, 3...</td>\n",
       "      <td>[3205, 3205, 3205, 3205, 3205, 3205, 3205, 320...</td>\n",
       "    </tr>\n",
       "    <tr>\n",
       "      <th>2020-09-21 00:07:44</th>\n",
       "      <td>[66.0, 66.0, 66.0, 66.0, 66.0, 66.0, 66.0, 66....</td>\n",
       "      <td>[66.0, 85.0, 85.0, 85.0, 85.0, 85.0, 85.0, 85....</td>\n",
       "      <td>[0, 244, 1132, 2100, 3140, 3356, 3244, 3204, 3...</td>\n",
       "      <td>[3185, 3185, 3185, 3185, 3185, 3185, 3185, 318...</td>\n",
       "    </tr>\n",
       "    <tr>\n",
       "      <th>2020-09-21 00:22:27</th>\n",
       "      <td>[66.0, 66.0, 66.0, 66.0, 66.0, 66.0, 66.0, 66....</td>\n",
       "      <td>[66.0, 85.0, 85.0, 85.0, 85.0, 85.0, 85.0, 85....</td>\n",
       "      <td>[0, 284, 1172, 2156, 3100, 3356, 3244, 3164, 3...</td>\n",
       "      <td>[3135, 3135, 3135, 3135, 3135, 3135, 3135, 313...</td>\n",
       "    </tr>\n",
       "    <tr>\n",
       "      <th>2020-09-21 00:27:11</th>\n",
       "      <td>[66.0, 66.0, 66.0, 66.0, 66.0, 66.0, 66.0, 66....</td>\n",
       "      <td>[66.0, 85.0, 85.0, 85.0, 85.0, 85.0, 85.0, 85....</td>\n",
       "      <td>[0, 116, 1012, 1972, 3068, 3284, 3060, 2980, 2...</td>\n",
       "      <td>[2975, 2975, 2975, 2975, 2975, 2975, 2975, 297...</td>\n",
       "    </tr>\n",
       "    <tr>\n",
       "      <th>2020-09-21 00:27:34</th>\n",
       "      <td>[66.0, 66.0, 66.0, 66.0, 66.0, 66.0, 66.0, 66....</td>\n",
       "      <td>[66.0, 85.0, 85.0, 85.0, 85.0, 85.0, 85.0, 85....</td>\n",
       "      <td>[0, 196, 1084, 2076, 2892, 3052, 2980, 2916, 2...</td>\n",
       "      <td>[2975, 2975, 2975, 2975, 2975, 2975, 2975, 297...</td>\n",
       "    </tr>\n",
       "  </tbody>\n",
       "</table>\n",
       "</div>"
      ],
      "text/plain": [
       "                                                          actual_value  \\\n",
       "date_time                                                                \n",
       "2020-09-21 00:07:10  [66.0, 66.0, 66.0, 66.0, 66.0, 66.0, 66.0, 66....   \n",
       "2020-09-21 00:07:44  [66.0, 66.0, 66.0, 66.0, 66.0, 66.0, 66.0, 66....   \n",
       "2020-09-21 00:22:27  [66.0, 66.0, 66.0, 66.0, 66.0, 66.0, 66.0, 66....   \n",
       "2020-09-21 00:27:11  [66.0, 66.0, 66.0, 66.0, 66.0, 66.0, 66.0, 66....   \n",
       "2020-09-21 00:27:34  [66.0, 66.0, 66.0, 66.0, 66.0, 66.0, 66.0, 66....   \n",
       "\n",
       "                                                         desired_value  \\\n",
       "date_time                                                                \n",
       "2020-09-21 00:07:10  [66.0, 85.0, 85.0, 85.0, 85.0, 85.0, 85.0, 85....   \n",
       "2020-09-21 00:07:44  [66.0, 85.0, 85.0, 85.0, 85.0, 85.0, 85.0, 85....   \n",
       "2020-09-21 00:22:27  [66.0, 85.0, 85.0, 85.0, 85.0, 85.0, 85.0, 85....   \n",
       "2020-09-21 00:27:11  [66.0, 85.0, 85.0, 85.0, 85.0, 85.0, 85.0, 85....   \n",
       "2020-09-21 00:27:34  [66.0, 85.0, 85.0, 85.0, 85.0, 85.0, 85.0, 85....   \n",
       "\n",
       "                                                        actual_control  \\\n",
       "date_time                                                                \n",
       "2020-09-21 00:07:10  [0, 236, 1124, 2092, 3068, 3404, 3260, 3196, 3...   \n",
       "2020-09-21 00:07:44  [0, 244, 1132, 2100, 3140, 3356, 3244, 3204, 3...   \n",
       "2020-09-21 00:22:27  [0, 284, 1172, 2156, 3100, 3356, 3244, 3164, 3...   \n",
       "2020-09-21 00:27:11  [0, 116, 1012, 1972, 3068, 3284, 3060, 2980, 2...   \n",
       "2020-09-21 00:27:34  [0, 196, 1084, 2076, 2892, 3052, 2980, 2916, 2...   \n",
       "\n",
       "                                                       desired_control  \n",
       "date_time                                                               \n",
       "2020-09-21 00:07:10  [3205, 3205, 3205, 3205, 3205, 3205, 3205, 320...  \n",
       "2020-09-21 00:07:44  [3185, 3185, 3185, 3185, 3185, 3185, 3185, 318...  \n",
       "2020-09-21 00:22:27  [3135, 3135, 3135, 3135, 3135, 3135, 3135, 313...  \n",
       "2020-09-21 00:27:11  [2975, 2975, 2975, 2975, 2975, 2975, 2975, 297...  \n",
       "2020-09-21 00:27:34  [2975, 2975, 2975, 2975, 2975, 2975, 2975, 297...  "
      ]
     },
     "execution_count": 49,
     "metadata": {},
     "output_type": "execute_result"
    }
   ],
   "source": [
    "data.info()\n",
    "data.head()"
   ]
  },
  {
   "cell_type": "code",
   "execution_count": 69,
   "id": "gentle-examination",
   "metadata": {},
   "outputs": [
    {
     "data": {
      "text/plain": [
       "248"
      ]
     },
     "execution_count": 69,
     "metadata": {},
     "output_type": "execute_result"
    }
   ],
   "source": [
    "actual_value0 = data.loc['2020-09-21 00:07:10'][0]\n",
    "desired_value0 = data.loc['2020-09-21 00:07:10'][1]\n",
    "actual_control0 = data.loc['2020-09-21 00:07:10'][2]\n",
    "desired_control0 = data.loc['2020-09-21 00:07:10'][3]\n",
    "\n",
    "#actual_value0.size\n",
    "#desired_value0.size\n",
    "type(actual_control0)\n",
    "desired_control0 = np.asarray(desired_control0)\n",
    "desired_control0.size"
   ]
  },
  {
   "cell_type": "code",
   "execution_count": 71,
   "id": "likely-wheat",
   "metadata": {},
   "outputs": [],
   "source": [
    "data0 = {'actual_value': actual_value0, 'desired_value': desired_value0, 'actual_control': actual_control0, 'desired_control': desired_control0}"
   ]
  },
  {
   "cell_type": "code",
   "execution_count": 78,
   "id": "professional-france",
   "metadata": {},
   "outputs": [],
   "source": [
    "df = pd.DataFrame(data = data0)"
   ]
  },
  {
   "cell_type": "code",
   "execution_count": 90,
   "id": "dramatic-heather",
   "metadata": {},
   "outputs": [
    {
     "data": {
      "text/plain": [
       "<AxesSubplot:>"
      ]
     },
     "execution_count": 90,
     "metadata": {},
     "output_type": "execute_result"
    },
    {
     "data": {
      "image/png": "[encoded data removed]",
      "text/plain": [
       "<Figure size 432x288 with 1 Axes>"
      ]
     },
     "metadata": {
      "needs_background": "light"
     },
     "output_type": "display_data"
    }
   ],
   "source": [
    "df.plot(y=['actual_value', 'desired_value'])"
   ]
  },
  {
   "cell_type": "code",
   "execution_count": 91,
   "id": "mature-prescription",
   "metadata": {
    "scrolled": true
   },
   "outputs": [
    {
     "data": {
      "text/plain": [
       "<AxesSubplot:>"
      ]
     },
     "execution_count": 91,
     "metadata": {},
     "output_type": "execute_result"
    },
    {
     "data": {
      "image/png": "[encoded data removed]",
      "text/plain": [
       "<Figure size 432x288 with 1 Axes>"
      ]
     },
     "metadata": {
      "needs_background": "light"
     },
     "output_type": "display_data"
    }
   ],
   "source": [
    "df.plot(y=['actual_control', 'desired_control'])"
   ]
  },
  {
   "cell_type": "code",
   "execution_count": 123,
   "id": "resistant-discrimination",
   "metadata": {
    "scrolled": true
   },
   "outputs": [
    {
     "ename": "SyntaxError",
     "evalue": "invalid syntax (<ipython-input-123-18ea2f79ad8f>, line 1)",
     "output_type": "error",
     "traceback": [
      "\u001b[1;36m  File \u001b[1;32m\"<ipython-input-123-18ea2f79ad8f>\"\u001b[1;36m, line \u001b[1;32m1\u001b[0m\n\u001b[1;33m    corrrect_value = np.where((actual_value0 < 100)& (actual_value0 >= 100) ), True, False)\u001b[0m\n\u001b[1;37m                                                                                          ^\u001b[0m\n\u001b[1;31mSyntaxError\u001b[0m\u001b[1;31m:\u001b[0m invalid syntax\n"
     ]
    }
   ],
   "source": [
    "corrrect_value = np.where((actual_value0 < 100)& (actual_value0 >= 100) ), True, False)"
   ]
  },
  {
   "cell_type": "code",
   "execution_count": 93,
   "id": "super-techno",
   "metadata": {},
   "outputs": [
    {
     "name": "stderr",
     "output_type": "stream",
     "text": [
      "Feature Extraction: 100%|██████████████████████████████████████████████████████████████| 10/10 [00:09<00:00,  1.00it/s]\n"
     ]
    }
   ],
   "source": [
    "extracted_features = extract_features(df, column_id = 'actual_value')"
   ]
  },
  {
   "cell_type": "code",
   "execution_count": 100,
   "id": "surrounded-watershed",
   "metadata": {},
   "outputs": [
    {
     "data": {
      "text/plain": [
       "False"
      ]
     },
     "execution_count": 100,
     "metadata": {},
     "output_type": "execute_result"
    }
   ],
   "source": []
  },
  {
   "cell_type": "code",
   "execution_count": 112,
   "id": "skilled-shower",
   "metadata": {},
   "outputs": [
    {
     "ename": "KeyError",
     "evalue": "'correct_value'",
     "output_type": "error",
     "traceback": [
      "\u001b[1;31m---------------------------------------------------------------------------\u001b[0m",
      "\u001b[1;31mKeyError\u001b[0m                                  Traceback (most recent call last)",
      "\u001b[1;32m~\\Anaconda\\envs\\py3-TF2.0\\lib\\site-packages\\pandas\\core\\indexes\\base.py\u001b[0m in \u001b[0;36mget_loc\u001b[1;34m(self, key, method, tolerance)\u001b[0m\n\u001b[0;32m   3079\u001b[0m             \u001b[1;32mtry\u001b[0m\u001b[1;33m:\u001b[0m\u001b[1;33m\u001b[0m\u001b[1;33m\u001b[0m\u001b[0m\n\u001b[1;32m-> 3080\u001b[1;33m                 \u001b[1;32mreturn\u001b[0m \u001b[0mself\u001b[0m\u001b[1;33m.\u001b[0m\u001b[0m_engine\u001b[0m\u001b[1;33m.\u001b[0m\u001b[0mget_loc\u001b[0m\u001b[1;33m(\u001b[0m\u001b[0mcasted_key\u001b[0m\u001b[1;33m)\u001b[0m\u001b[1;33m\u001b[0m\u001b[1;33m\u001b[0m\u001b[0m\n\u001b[0m\u001b[0;32m   3081\u001b[0m             \u001b[1;32mexcept\u001b[0m \u001b[0mKeyError\u001b[0m \u001b[1;32mas\u001b[0m \u001b[0merr\u001b[0m\u001b[1;33m:\u001b[0m\u001b[1;33m\u001b[0m\u001b[1;33m\u001b[0m\u001b[0m\n",
      "\u001b[1;32mpandas\\_libs\\index.pyx\u001b[0m in \u001b[0;36mpandas._libs.index.IndexEngine.get_loc\u001b[1;34m()\u001b[0m\n",
      "\u001b[1;32mpandas\\_libs\\index.pyx\u001b[0m in \u001b[0;36mpandas._libs.index.IndexEngine.get_loc\u001b[1;34m()\u001b[0m\n",
      "\u001b[1;32mpandas\\_libs\\hashtable_class_helper.pxi\u001b[0m in \u001b[0;36mpandas._libs.hashtable.PyObjectHashTable.get_item\u001b[1;34m()\u001b[0m\n",
      "\u001b[1;32mpandas\\_libs\\hashtable_class_helper.pxi\u001b[0m in \u001b[0;36mpandas._libs.hashtable.PyObjectHashTable.get_item\u001b[1;34m()\u001b[0m\n",
      "\u001b[1;31mKeyError\u001b[0m: 'correct_value'",
      "\nThe above exception was the direct cause of the following exception:\n",
      "\u001b[1;31mKeyError\u001b[0m                                  Traceback (most recent call last)",
      "\u001b[1;32m<ipython-input-112-f18c8b07e397>\u001b[0m in \u001b[0;36m<module>\u001b[1;34m\u001b[0m\n\u001b[0;32m      3\u001b[0m \u001b[1;33m\u001b[0m\u001b[0m\n\u001b[0;32m      4\u001b[0m \u001b[0mimpute\u001b[0m\u001b[1;33m(\u001b[0m\u001b[0mextracted_features\u001b[0m\u001b[1;33m)\u001b[0m\u001b[1;33m\u001b[0m\u001b[1;33m\u001b[0m\u001b[0m\n\u001b[1;32m----> 5\u001b[1;33m \u001b[0mfeatures_filtered\u001b[0m \u001b[1;33m=\u001b[0m \u001b[0mselect_features\u001b[0m\u001b[1;33m(\u001b[0m\u001b[0mextracted_features\u001b[0m\u001b[1;33m,\u001b[0m \u001b[0mdf\u001b[0m\u001b[1;33m[\u001b[0m\u001b[1;34m'correct_value'\u001b[0m\u001b[1;33m]\u001b[0m\u001b[1;33m)\u001b[0m\u001b[1;33m\u001b[0m\u001b[1;33m\u001b[0m\u001b[0m\n\u001b[0m",
      "\u001b[1;32m~\\Anaconda\\envs\\py3-TF2.0\\lib\\site-packages\\pandas\\core\\frame.py\u001b[0m in \u001b[0;36m__getitem__\u001b[1;34m(self, key)\u001b[0m\n\u001b[0;32m   3022\u001b[0m             \u001b[1;32mif\u001b[0m \u001b[0mself\u001b[0m\u001b[1;33m.\u001b[0m\u001b[0mcolumns\u001b[0m\u001b[1;33m.\u001b[0m\u001b[0mnlevels\u001b[0m \u001b[1;33m>\u001b[0m \u001b[1;36m1\u001b[0m\u001b[1;33m:\u001b[0m\u001b[1;33m\u001b[0m\u001b[1;33m\u001b[0m\u001b[0m\n\u001b[0;32m   3023\u001b[0m                 \u001b[1;32mreturn\u001b[0m \u001b[0mself\u001b[0m\u001b[1;33m.\u001b[0m\u001b[0m_getitem_multilevel\u001b[0m\u001b[1;33m(\u001b[0m\u001b[0mkey\u001b[0m\u001b[1;33m)\u001b[0m\u001b[1;33m\u001b[0m\u001b[1;33m\u001b[0m\u001b[0m\n\u001b[1;32m-> 3024\u001b[1;33m             \u001b[0mindexer\u001b[0m \u001b[1;33m=\u001b[0m \u001b[0mself\u001b[0m\u001b[1;33m.\u001b[0m\u001b[0mcolumns\u001b[0m\u001b[1;33m.\u001b[0m\u001b[0mget_loc\u001b[0m\u001b[1;33m(\u001b[0m\u001b[0mkey\u001b[0m\u001b[1;33m)\u001b[0m\u001b[1;33m\u001b[0m\u001b[1;33m\u001b[0m\u001b[0m\n\u001b[0m\u001b[0;32m   3025\u001b[0m             \u001b[1;32mif\u001b[0m \u001b[0mis_integer\u001b[0m\u001b[1;33m(\u001b[0m\u001b[0mindexer\u001b[0m\u001b[1;33m)\u001b[0m\u001b[1;33m:\u001b[0m\u001b[1;33m\u001b[0m\u001b[1;33m\u001b[0m\u001b[0m\n\u001b[0;32m   3026\u001b[0m                 \u001b[0mindexer\u001b[0m \u001b[1;33m=\u001b[0m \u001b[1;33m[\u001b[0m\u001b[0mindexer\u001b[0m\u001b[1;33m]\u001b[0m\u001b[1;33m\u001b[0m\u001b[1;33m\u001b[0m\u001b[0m\n",
      "\u001b[1;32m~\\Anaconda\\envs\\py3-TF2.0\\lib\\site-packages\\pandas\\core\\indexes\\base.py\u001b[0m in \u001b[0;36mget_loc\u001b[1;34m(self, key, method, tolerance)\u001b[0m\n\u001b[0;32m   3080\u001b[0m                 \u001b[1;32mreturn\u001b[0m \u001b[0mself\u001b[0m\u001b[1;33m.\u001b[0m\u001b[0m_engine\u001b[0m\u001b[1;33m.\u001b[0m\u001b[0mget_loc\u001b[0m\u001b[1;33m(\u001b[0m\u001b[0mcasted_key\u001b[0m\u001b[1;33m)\u001b[0m\u001b[1;33m\u001b[0m\u001b[1;33m\u001b[0m\u001b[0m\n\u001b[0;32m   3081\u001b[0m             \u001b[1;32mexcept\u001b[0m \u001b[0mKeyError\u001b[0m \u001b[1;32mas\u001b[0m \u001b[0merr\u001b[0m\u001b[1;33m:\u001b[0m\u001b[1;33m\u001b[0m\u001b[1;33m\u001b[0m\u001b[0m\n\u001b[1;32m-> 3082\u001b[1;33m                 \u001b[1;32mraise\u001b[0m \u001b[0mKeyError\u001b[0m\u001b[1;33m(\u001b[0m\u001b[0mkey\u001b[0m\u001b[1;33m)\u001b[0m \u001b[1;32mfrom\u001b[0m \u001b[0merr\u001b[0m\u001b[1;33m\u001b[0m\u001b[1;33m\u001b[0m\u001b[0m\n\u001b[0m\u001b[0;32m   3083\u001b[0m \u001b[1;33m\u001b[0m\u001b[0m\n\u001b[0;32m   3084\u001b[0m         \u001b[1;32mif\u001b[0m \u001b[0mtolerance\u001b[0m \u001b[1;32mis\u001b[0m \u001b[1;32mnot\u001b[0m \u001b[1;32mNone\u001b[0m\u001b[1;33m:\u001b[0m\u001b[1;33m\u001b[0m\u001b[1;33m\u001b[0m\u001b[0m\n",
      "\u001b[1;31mKeyError\u001b[0m: 'correct_value'"
     ]
    }
   ],
   "source": [
    "from tsfresh import select_features\n",
    "from tsfresh.utilities.dataframe_functions import impute\n",
    "\n",
    "impute(extracted_features)\n",
    "features_filtered = select_features(extracted_features, df['correct_value'])"
   ]
  },
  {
   "cell_type": "code",
   "execution_count": null,
   "id": "sophisticated-washer",
   "metadata": {},
   "outputs": [],
   "source": []
  }
 ],
 "metadata": {
  "kernelspec": {
   "display_name": "Python [conda env:py3-TF2.0] *",
   "language": "python",
   "name": "conda-env-py3-TF2.0-py"
  },
  "language_info": {
   "codemirror_mode": {
    "name": "ipython",
    "version": 3
   },
   "file_extension": ".py",
   "mimetype": "text/x-python",
   "name": "python",
   "nbconvert_exporter": "python",
   "pygments_lexer": "ipython3",
   "version": "3.7.7"
  }
 },
 "nbformat": 4,
 "nbformat_minor": 5
}
